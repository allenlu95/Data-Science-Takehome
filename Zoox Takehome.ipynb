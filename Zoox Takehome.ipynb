{
 "cells": [
  {
   "cell_type": "code",
   "execution_count": 251,
   "metadata": {},
   "outputs": [],
   "source": [
    "import pandas as pd\n",
    "import seaborn as sns\n",
    "import matplotlib.pyplot as plt\n",
    "from geopy.distance import vincenty\n",
    "%matplotlib inline"
   ]
  },
  {
   "cell_type": "markdown",
   "metadata": {},
   "source": [
    "# Prompt\n",
    "The data files are from two mobility companies. We are interested in learning more about the dynamics of the market in which they operate.\n",
    "\n",
    "1. Describe the operations of these two mobility companies.\n",
    "\n",
    "2. Please estimate the number of scooters company b operates in this geography? Simpler mechanisms of estimation are preferred."
   ]
  },
  {
   "cell_type": "markdown",
   "metadata": {},
   "source": [
    "# Data Cleaning + Initial EDA\n",
    " Before we begin any type of analysis we'll need to understand our data. We break it down to the following steps:\n",
    "1. Check Data Integrity\n",
    "    - explore Null values\n",
    "    - explore outliers/unusual values\n",
    "2. Initial Data Understanding\n",
    "    - explore intersting variations + columns to further explore"
   ]
  },
  {
   "cell_type": "code",
   "execution_count": 252,
   "metadata": {},
   "outputs": [],
   "source": [
    "c1_a = pd.read_csv('company_a_1.csv')\n",
    "c2_a = pd.read_csv('company_a_2.csv')\n",
    "c3_a = pd.read_csv('company_a_3.csv')\n",
    "c4_a = pd.read_csv('company_a_4.csv')\n",
    "c5_a = pd.read_csv('company_a_5.csv')\n",
    "c1_b = pd.read_csv('company_b_1.csv')\n",
    "c2_b = pd.read_csv('company_b_2.csv')"
   ]
  },
  {
   "cell_type": "code",
   "execution_count": 253,
   "metadata": {},
   "outputs": [
    {
     "name": "stdout",
     "output_type": "stream",
     "text": [
      "<class 'pandas.core.frame.DataFrame'>\n",
      "RangeIndex: 6834 entries, 0 to 6833\n",
      "Data columns (total 9 columns):\n",
      "TripID            6834 non-null object\n",
      "ScooterID         6834 non-null object\n",
      "StartTime         6834 non-null object\n",
      "EndTime           6834 non-null object\n",
      "StartLatitude     6834 non-null float64\n",
      "StartLongitude    6834 non-null float64\n",
      "EndLatitude       6834 non-null float64\n",
      "EndLongitude      6834 non-null float64\n",
      "TripDistance      6834 non-null float64\n",
      "dtypes: float64(5), object(4)\n",
      "memory usage: 480.6+ KB\n",
      "None\n",
      "<class 'pandas.core.frame.DataFrame'>\n",
      "RangeIndex: 12337 entries, 0 to 12336\n",
      "Data columns (total 9 columns):\n",
      "TripID            12337 non-null object\n",
      "ScooterID         12337 non-null object\n",
      "StartTime         12337 non-null object\n",
      "EndTime           12337 non-null object\n",
      "StartLatitude     12337 non-null float64\n",
      "StartLongitude    12337 non-null float64\n",
      "EndLatitude       12337 non-null float64\n",
      "EndLongitude      12337 non-null float64\n",
      "TripDistance      12337 non-null float64\n",
      "dtypes: float64(5), object(4)\n",
      "memory usage: 867.5+ KB\n",
      "None\n",
      "<class 'pandas.core.frame.DataFrame'>\n",
      "RangeIndex: 16166 entries, 0 to 16165\n",
      "Data columns (total 9 columns):\n",
      "TripID            16166 non-null object\n",
      "ScooterID         16166 non-null object\n",
      "StartTime         16166 non-null object\n",
      "EndTime           16166 non-null object\n",
      "StartLatitude     16166 non-null float64\n",
      "StartLongitude    16166 non-null float64\n",
      "EndLatitude       16166 non-null float64\n",
      "EndLongitude      16166 non-null float64\n",
      "TripDistance      16166 non-null float64\n",
      "dtypes: float64(5), object(4)\n",
      "memory usage: 1.1+ MB\n",
      "None\n",
      "<class 'pandas.core.frame.DataFrame'>\n",
      "RangeIndex: 13047 entries, 0 to 13046\n",
      "Data columns (total 9 columns):\n",
      "TripID            13047 non-null object\n",
      "ScooterID         13047 non-null object\n",
      "StartTime         13047 non-null object\n",
      "EndTime           13047 non-null object\n",
      "StartLatitude     13047 non-null float64\n",
      "StartLongitude    13047 non-null float64\n",
      "EndLatitude       13046 non-null float64\n",
      "EndLongitude      13046 non-null float64\n",
      "TripDistance      13047 non-null float64\n",
      "dtypes: float64(5), object(4)\n",
      "memory usage: 917.4+ KB\n",
      "None\n",
      "<class 'pandas.core.frame.DataFrame'>\n",
      "RangeIndex: 8981 entries, 0 to 8980\n",
      "Data columns (total 9 columns):\n",
      "TripID            8981 non-null object\n",
      "ScooterID         8981 non-null object\n",
      "StartTime         8981 non-null object\n",
      "EndTime           8981 non-null object\n",
      "StartLatitude     8981 non-null float64\n",
      "StartLongitude    8981 non-null float64\n",
      "EndLatitude       8981 non-null float64\n",
      "EndLongitude      8981 non-null float64\n",
      "TripDistance      8981 non-null float64\n",
      "dtypes: float64(5), object(4)\n",
      "memory usage: 631.6+ KB\n",
      "None\n",
      "<class 'pandas.core.frame.DataFrame'>\n",
      "RangeIndex: 4088 entries, 0 to 4087\n",
      "Data columns (total 8 columns):\n",
      "trip_id            4088 non-null int64\n",
      "start_time         4088 non-null object\n",
      "completed_time     4088 non-null object\n",
      "distance_meters    4088 non-null int64\n",
      "start_latitude     4088 non-null float64\n",
      "start_longitude    4088 non-null float64\n",
      "end_latitude       4088 non-null float64\n",
      "end_longitude      4088 non-null float64\n",
      "dtypes: float64(4), int64(2), object(2)\n",
      "memory usage: 255.6+ KB\n",
      "None\n",
      "<class 'pandas.core.frame.DataFrame'>\n",
      "RangeIndex: 6490 entries, 0 to 6489\n",
      "Data columns (total 8 columns):\n",
      "trip_id            6490 non-null int64\n",
      "start_time         6490 non-null object\n",
      "completed_time     6490 non-null object\n",
      "distance_meters    6490 non-null int64\n",
      "start_latitude     6490 non-null float64\n",
      "start_longitude    6490 non-null float64\n",
      "end_latitude       6490 non-null float64\n",
      "end_longitude      6490 non-null float64\n",
      "dtypes: float64(4), int64(2), object(2)\n",
      "memory usage: 405.7+ KB\n",
      "None\n"
     ]
    }
   ],
   "source": [
    "for df in [c1_a,c2_a,c3_a,c4_a,c5_a,c1_b,c2_b]:\n",
    "    print(df.info())"
   ]
  },
  {
   "cell_type": "markdown",
   "metadata": {},
   "source": [
    "Once we read in all the csvs, a quick overview shows all csvs for Company A have the same column names and datatypes. Similarly with Company B. We can concat these dataframes down to 2 distinct dataframes."
   ]
  },
  {
   "cell_type": "code",
   "execution_count": 254,
   "metadata": {},
   "outputs": [],
   "source": [
    "c_a = pd.concat([c1_a,c2_a,c3_a,c4_a,c5_a])\n",
    "c_b = pd.concat([c1_b,c2_b])"
   ]
  },
  {
   "cell_type": "code",
   "execution_count": 255,
   "metadata": {},
   "outputs": [
    {
     "name": "stdout",
     "output_type": "stream",
     "text": [
      "<class 'pandas.core.frame.DataFrame'>\n",
      "Int64Index: 57365 entries, 0 to 8980\n",
      "Data columns (total 9 columns):\n",
      "TripID            57365 non-null object\n",
      "ScooterID         57365 non-null object\n",
      "StartTime         57365 non-null object\n",
      "EndTime           57365 non-null object\n",
      "StartLatitude     57365 non-null float64\n",
      "StartLongitude    57365 non-null float64\n",
      "EndLatitude       57364 non-null float64\n",
      "EndLongitude      57364 non-null float64\n",
      "TripDistance      57365 non-null float64\n",
      "dtypes: float64(5), object(4)\n",
      "memory usage: 4.4+ MB\n"
     ]
    }
   ],
   "source": [
    "c_a.info()"
   ]
  },
  {
   "cell_type": "code",
   "execution_count": 256,
   "metadata": {},
   "outputs": [
    {
     "name": "stdout",
     "output_type": "stream",
     "text": [
      "<class 'pandas.core.frame.DataFrame'>\n",
      "Int64Index: 10578 entries, 0 to 6489\n",
      "Data columns (total 8 columns):\n",
      "trip_id            10578 non-null int64\n",
      "start_time         10578 non-null object\n",
      "completed_time     10578 non-null object\n",
      "distance_meters    10578 non-null int64\n",
      "start_latitude     10578 non-null float64\n",
      "start_longitude    10578 non-null float64\n",
      "end_latitude       10578 non-null float64\n",
      "end_longitude      10578 non-null float64\n",
      "dtypes: float64(4), int64(2), object(2)\n",
      "memory usage: 743.8+ KB\n"
     ]
    }
   ],
   "source": [
    "c_b.info()"
   ]
  },
  {
   "cell_type": "code",
   "execution_count": 257,
   "metadata": {},
   "outputs": [
    {
     "data": {
      "text/html": [
       "<div>\n",
       "<style scoped>\n",
       "    .dataframe tbody tr th:only-of-type {\n",
       "        vertical-align: middle;\n",
       "    }\n",
       "\n",
       "    .dataframe tbody tr th {\n",
       "        vertical-align: top;\n",
       "    }\n",
       "\n",
       "    .dataframe thead th {\n",
       "        text-align: right;\n",
       "    }\n",
       "</style>\n",
       "<table border=\"1\" class=\"dataframe\">\n",
       "  <thead>\n",
       "    <tr style=\"text-align: right;\">\n",
       "      <th></th>\n",
       "      <th>StartLatitude</th>\n",
       "      <th>StartLongitude</th>\n",
       "      <th>EndLatitude</th>\n",
       "      <th>EndLongitude</th>\n",
       "      <th>TripDistance</th>\n",
       "    </tr>\n",
       "  </thead>\n",
       "  <tbody>\n",
       "    <tr>\n",
       "      <th>count</th>\n",
       "      <td>57365.00000</td>\n",
       "      <td>57365.000000</td>\n",
       "      <td>57364.000000</td>\n",
       "      <td>57364.000000</td>\n",
       "      <td>5.736500e+04</td>\n",
       "    </tr>\n",
       "    <tr>\n",
       "      <th>mean</th>\n",
       "      <td>38.24342</td>\n",
       "      <td>-85.745516</td>\n",
       "      <td>38.241914</td>\n",
       "      <td>-85.745865</td>\n",
       "      <td>1.491247e+02</td>\n",
       "    </tr>\n",
       "    <tr>\n",
       "      <th>std</th>\n",
       "      <td>0.01614</td>\n",
       "      <td>0.020405</td>\n",
       "      <td>0.172975</td>\n",
       "      <td>0.433992</td>\n",
       "      <td>1.352164e+04</td>\n",
       "    </tr>\n",
       "    <tr>\n",
       "      <th>min</th>\n",
       "      <td>38.10000</td>\n",
       "      <td>-85.900000</td>\n",
       "      <td>0.000000</td>\n",
       "      <td>-122.420000</td>\n",
       "      <td>-1.034441e+04</td>\n",
       "    </tr>\n",
       "    <tr>\n",
       "      <th>0.5%</th>\n",
       "      <td>38.20000</td>\n",
       "      <td>-85.780000</td>\n",
       "      <td>38.200000</td>\n",
       "      <td>-85.790000</td>\n",
       "      <td>0.000000e+00</td>\n",
       "    </tr>\n",
       "    <tr>\n",
       "      <th>25%</th>\n",
       "      <td>38.23000</td>\n",
       "      <td>-85.760000</td>\n",
       "      <td>38.230000</td>\n",
       "      <td>-85.760000</td>\n",
       "      <td>2.900000e-01</td>\n",
       "    </tr>\n",
       "    <tr>\n",
       "      <th>50%</th>\n",
       "      <td>38.25000</td>\n",
       "      <td>-85.750000</td>\n",
       "      <td>38.250000</td>\n",
       "      <td>-85.750000</td>\n",
       "      <td>7.500000e-01</td>\n",
       "    </tr>\n",
       "    <tr>\n",
       "      <th>75%</th>\n",
       "      <td>38.26000</td>\n",
       "      <td>-85.740000</td>\n",
       "      <td>38.260000</td>\n",
       "      <td>-85.740000</td>\n",
       "      <td>1.740000e+00</td>\n",
       "    </tr>\n",
       "    <tr>\n",
       "      <th>99.5%</th>\n",
       "      <td>38.27000</td>\n",
       "      <td>-85.680000</td>\n",
       "      <td>38.270000</td>\n",
       "      <td>-85.670000</td>\n",
       "      <td>1.005180e+01</td>\n",
       "    </tr>\n",
       "    <tr>\n",
       "      <th>max</th>\n",
       "      <td>38.34000</td>\n",
       "      <td>-85.490000</td>\n",
       "      <td>41.300000</td>\n",
       "      <td>0.000000</td>\n",
       "      <td>1.334378e+06</td>\n",
       "    </tr>\n",
       "  </tbody>\n",
       "</table>\n",
       "</div>"
      ],
      "text/plain": [
       "       StartLatitude  StartLongitude   EndLatitude  EndLongitude  TripDistance\n",
       "count    57365.00000    57365.000000  57364.000000  57364.000000  5.736500e+04\n",
       "mean        38.24342      -85.745516     38.241914    -85.745865  1.491247e+02\n",
       "std          0.01614        0.020405      0.172975      0.433992  1.352164e+04\n",
       "min         38.10000      -85.900000      0.000000   -122.420000 -1.034441e+04\n",
       "0.5%        38.20000      -85.780000     38.200000    -85.790000  0.000000e+00\n",
       "25%         38.23000      -85.760000     38.230000    -85.760000  2.900000e-01\n",
       "50%         38.25000      -85.750000     38.250000    -85.750000  7.500000e-01\n",
       "75%         38.26000      -85.740000     38.260000    -85.740000  1.740000e+00\n",
       "99.5%       38.27000      -85.680000     38.270000    -85.670000  1.005180e+01\n",
       "max         38.34000      -85.490000     41.300000      0.000000  1.334378e+06"
      ]
     },
     "execution_count": 257,
     "metadata": {},
     "output_type": "execute_result"
    }
   ],
   "source": [
    "c_a.describe([.005,.25,.75,.995])"
   ]
  },
  {
   "cell_type": "code",
   "execution_count": 258,
   "metadata": {},
   "outputs": [
    {
     "data": {
      "image/png": "[encoded data removed]",
      "text/plain": [
       "<Figure size 1440x288 with 2 Axes>"
      ]
     },
     "metadata": {
      "needs_background": "light"
     },
     "output_type": "display_data"
    }
   ],
   "source": [
    "fig, ax =plt.subplots(1,2,figsize=(20,4))\n",
    "c_a['EndLatitude'].hist(ax=ax[0])\n",
    "c_a['EndLongitude'].hist(ax=ax[1])\n",
    "ax[0].set_xlabel('End Latitudes')\n",
    "ax[1].set_xlabel('End Longitudes')\n",
    "ax[0].set_yscale('log')\n",
    "ax[1].set_yscale('log')\n",
    "plt.show()"
   ]
  },
  {
   "cell_type": "markdown",
   "metadata": {},
   "source": [
    "A quick look shows us most EndLatitudes are between the 30 and 40 range and End Longitudes are between -100 and -70"
   ]
  },
  {
   "cell_type": "code",
   "execution_count": 259,
   "metadata": {},
   "outputs": [
    {
     "data": {
      "text/html": [
       "<div>\n",
       "<style scoped>\n",
       "    .dataframe tbody tr th:only-of-type {\n",
       "        vertical-align: middle;\n",
       "    }\n",
       "\n",
       "    .dataframe tbody tr th {\n",
       "        vertical-align: top;\n",
       "    }\n",
       "\n",
       "    .dataframe thead th {\n",
       "        text-align: right;\n",
       "    }\n",
       "</style>\n",
       "<table border=\"1\" class=\"dataframe\">\n",
       "  <thead>\n",
       "    <tr style=\"text-align: right;\">\n",
       "      <th></th>\n",
       "      <th>trip_id</th>\n",
       "      <th>distance_meters</th>\n",
       "      <th>start_latitude</th>\n",
       "      <th>start_longitude</th>\n",
       "      <th>end_latitude</th>\n",
       "      <th>end_longitude</th>\n",
       "    </tr>\n",
       "  </thead>\n",
       "  <tbody>\n",
       "    <tr>\n",
       "      <th>count</th>\n",
       "      <td>1.057800e+04</td>\n",
       "      <td>10578.000000</td>\n",
       "      <td>10578.000000</td>\n",
       "      <td>10578.000000</td>\n",
       "      <td>10578.000000</td>\n",
       "      <td>10578.000000</td>\n",
       "    </tr>\n",
       "    <tr>\n",
       "      <th>mean</th>\n",
       "      <td>3.250132e+07</td>\n",
       "      <td>1486.692759</td>\n",
       "      <td>38.233344</td>\n",
       "      <td>-85.753961</td>\n",
       "      <td>38.232768</td>\n",
       "      <td>-85.738549</td>\n",
       "    </tr>\n",
       "    <tr>\n",
       "      <th>std</th>\n",
       "      <td>3.244806e+06</td>\n",
       "      <td>2203.422186</td>\n",
       "      <td>0.018315</td>\n",
       "      <td>0.014404</td>\n",
       "      <td>0.286526</td>\n",
       "      <td>1.587107</td>\n",
       "    </tr>\n",
       "    <tr>\n",
       "      <th>min</th>\n",
       "      <td>2.626508e+07</td>\n",
       "      <td>0.000000</td>\n",
       "      <td>38.090000</td>\n",
       "      <td>-85.810000</td>\n",
       "      <td>19.420000</td>\n",
       "      <td>-121.890000</td>\n",
       "    </tr>\n",
       "    <tr>\n",
       "      <th>0.5%</th>\n",
       "      <td>2.636016e+07</td>\n",
       "      <td>0.000000</td>\n",
       "      <td>38.200000</td>\n",
       "      <td>-85.780000</td>\n",
       "      <td>38.200000</td>\n",
       "      <td>-85.780000</td>\n",
       "    </tr>\n",
       "    <tr>\n",
       "      <th>25%</th>\n",
       "      <td>2.977741e+07</td>\n",
       "      <td>479.000000</td>\n",
       "      <td>38.220000</td>\n",
       "      <td>-85.760000</td>\n",
       "      <td>38.220000</td>\n",
       "      <td>-85.760000</td>\n",
       "    </tr>\n",
       "    <tr>\n",
       "      <th>50%</th>\n",
       "      <td>3.303032e+07</td>\n",
       "      <td>913.000000</td>\n",
       "      <td>38.230000</td>\n",
       "      <td>-85.760000</td>\n",
       "      <td>38.230000</td>\n",
       "      <td>-85.760000</td>\n",
       "    </tr>\n",
       "    <tr>\n",
       "      <th>75%</th>\n",
       "      <td>3.500597e+07</td>\n",
       "      <td>1754.000000</td>\n",
       "      <td>38.250000</td>\n",
       "      <td>-85.750000</td>\n",
       "      <td>38.250000</td>\n",
       "      <td>-85.750000</td>\n",
       "    </tr>\n",
       "    <tr>\n",
       "      <th>99.5%</th>\n",
       "      <td>3.718217e+07</td>\n",
       "      <td>9996.070000</td>\n",
       "      <td>38.260000</td>\n",
       "      <td>-85.700000</td>\n",
       "      <td>38.270000</td>\n",
       "      <td>-85.690000</td>\n",
       "    </tr>\n",
       "    <tr>\n",
       "      <th>max</th>\n",
       "      <td>3.760439e+07</td>\n",
       "      <td>100000.000000</td>\n",
       "      <td>38.320000</td>\n",
       "      <td>-85.560000</td>\n",
       "      <td>48.860000</td>\n",
       "      <td>2.360000</td>\n",
       "    </tr>\n",
       "  </tbody>\n",
       "</table>\n",
       "</div>"
      ],
      "text/plain": [
       "            trip_id  distance_meters  start_latitude  start_longitude  \\\n",
       "count  1.057800e+04     10578.000000    10578.000000     10578.000000   \n",
       "mean   3.250132e+07      1486.692759       38.233344       -85.753961   \n",
       "std    3.244806e+06      2203.422186        0.018315         0.014404   \n",
       "min    2.626508e+07         0.000000       38.090000       -85.810000   \n",
       "0.5%   2.636016e+07         0.000000       38.200000       -85.780000   \n",
       "25%    2.977741e+07       479.000000       38.220000       -85.760000   \n",
       "50%    3.303032e+07       913.000000       38.230000       -85.760000   \n",
       "75%    3.500597e+07      1754.000000       38.250000       -85.750000   \n",
       "99.5%  3.718217e+07      9996.070000       38.260000       -85.700000   \n",
       "max    3.760439e+07    100000.000000       38.320000       -85.560000   \n",
       "\n",
       "       end_latitude  end_longitude  \n",
       "count  10578.000000   10578.000000  \n",
       "mean      38.232768     -85.738549  \n",
       "std        0.286526       1.587107  \n",
       "min       19.420000    -121.890000  \n",
       "0.5%      38.200000     -85.780000  \n",
       "25%       38.220000     -85.760000  \n",
       "50%       38.230000     -85.760000  \n",
       "75%       38.250000     -85.750000  \n",
       "99.5%     38.270000     -85.690000  \n",
       "max       48.860000       2.360000  "
      ]
     },
     "execution_count": 259,
     "metadata": {},
     "output_type": "execute_result"
    }
   ],
   "source": [
    "c_b.describe([.005,.25,.75,.995])"
   ]
  },
  {
   "cell_type": "code",
   "execution_count": 260,
   "metadata": {},
   "outputs": [
    {
     "data": {
      "image/png": "[encoded data removed]",
      "text/plain": [
       "<Figure size 1440x288 with 2 Axes>"
      ]
     },
     "metadata": {
      "needs_background": "light"
     },
     "output_type": "display_data"
    }
   ],
   "source": [
    "fig, ax =plt.subplots(1,2,figsize=(20,4))\n",
    "c_b['end_latitude'].hist(ax=ax[0])\n",
    "c_b['end_longitude'].hist(ax=ax[1])\n",
    "ax[0].set_xlabel('End Latitudes')\n",
    "ax[1].set_xlabel('End Longitudes')\n",
    "ax[0].set_yscale('log')\n",
    "ax[1].set_yscale('log')\n",
    "plt.show()"
   ]
  },
  {
   "cell_type": "markdown",
   "metadata": {},
   "source": [
    "A quick look shows us most EndLatitudes are between the 35 and 40 range and End Longitudes are between -120 and -70"
   ]
  },
  {
   "cell_type": "markdown",
   "metadata": {},
   "source": [
    "- We notice company a has 1 Null EndLatitude and 1 Null EndLongitude, and company_b has no Null rows.\n",
    "- We observe both datasets have very similar Lats and Lons until the maximum/minimum values. Changing around the percentiles we notice even at the top 99.5% and bottom .05% the  end latitudes and end longitudes don't differ too much from the median. We'll apply a rule of thumb and restrict our data to be between .05% percentile and 99.5% percentile for End Latitude and End Longitude.\n",
    "- We also notice Trip Distance in Company A has very large variations, and Trip Distance in Company B has a very large max meters traveled, and also a min distance of 0 meters traveled"
   ]
  },
  {
   "cell_type": "code",
   "execution_count": 261,
   "metadata": {},
   "outputs": [],
   "source": [
    "def restrict_percentile(df,columns):\n",
    "    \"\"\" \n",
    "        This function restricts our dataset to between .05% percentile and the 99.5% percentile \n",
    "        from a list of columns. \n",
    "  \n",
    "        Parameters: \n",
    "            df (dataframe): dataframe that needs restriction\n",
    "            columns (list): column names that we restrict on\n",
    "        Returns: \n",
    "            dataframe: A dataframe with applied restrictions. \n",
    "        \"\"\"\n",
    "    for column in columns:\n",
    "        lower,upper = df[column].quantile([.005,.995])\n",
    "        df = df[(df[column]>=lower)&(df[column]<=upper)]\n",
    "    return df"
   ]
  },
  {
   "cell_type": "code",
   "execution_count": 262,
   "metadata": {},
   "outputs": [
    {
     "name": "stdout",
     "output_type": "stream",
     "text": [
      "0      374\n",
      "768     17\n",
      "401     16\n",
      "613     13\n",
      "877     13\n",
      "Name: distance_meters, dtype: int64\n"
     ]
    },
    {
     "data": {
      "image/png": "[encoded data removed]",
      "text/plain": [
       "<Figure size 432x288 with 1 Axes>"
      ]
     },
     "metadata": {
      "needs_background": "light"
     },
     "output_type": "display_data"
    }
   ],
   "source": [
    "# We will remove the 1 missing value row from our dataset\n",
    "c_a = c_a.dropna()\n",
    "# Looking at the quantiles it seems only the most extreme values for latitude/longitude differ, \n",
    "# we shall use lat/lon values between .05% to 99.5% quantile for our analysis, this removes 2% of our data from both datasets\n",
    "c_a = restrict_percentile(c_a,['EndLatitude','EndLongitude'])\n",
    "c_b = restrict_percentile(c_b,['end_latitude','end_longitude'])\n",
    "# We won't be using trip distance for company A due to no defined metrics and having wide variance (even including negative values), \n",
    "# We'll visualize distance meters for company B with a histogram to look for interesting trends\n",
    "print(c_b['distance_meters'].value_counts().nlargest(5))\n",
    "c_b['distance_meters'].hist()\n",
    "plt.xlabel('distance in meters')\n",
    "plt.ylabel('count')\n",
    "plt.yscale('log')\n",
    "plt.show()\n",
    "\n"
   ]
  },
  {
   "cell_type": "markdown",
   "metadata": {},
   "source": [
    "Interestingly the most common ride distance is 0 meters, and we observe an outlier of 100000 meters, perhaps marking the max distance the scooters can track."
   ]
  },
  {
   "cell_type": "markdown",
   "metadata": {},
   "source": [
    "# Part 1. Describe the operations of these two mobility companies.\n",
    "To describe operations I will be focusing on the following features\n",
    "- User activity\n",
    "- Trip duration/length\n",
    "- Trip Location\n",
    "- Business Growth\n",
    "\n"
   ]
  },
  {
   "cell_type": "markdown",
   "metadata": {},
   "source": [
    "## Feature Engineering + Further EDA"
   ]
  },
  {
   "cell_type": "markdown",
   "metadata": {},
   "source": [
    "In order to explore Trip duration and User activity we need to construct new columns from the data we are provided with. We create several new time based variables including \n",
    "- TravelTime: total time traveled from start time to end time\n",
    "- TravelTime_minute: TravelTime broken down to minutes\n",
    "- StartDay: the name of day a trip started (ex. Monday,Tuesday,..)\n",
    "- StartDate: the date travel started\n",
    "- StartHour: the hour travel started"
   ]
  },
  {
   "cell_type": "code",
   "execution_count": 263,
   "metadata": {},
   "outputs": [],
   "source": [
    "c_a['TravelTime']= pd.to_datetime(c_a['EndTime'])-pd.to_datetime(c_a['StartTime'])\n",
    "c_a['TravelTime_minute'] = pd.to_timedelta(c_a['TravelTime']).dt.total_seconds()/60\n",
    "c_a['StartDate'] = pd.to_datetime(c_a['StartTime']).dt.date\n",
    "c_a['StartDay']= pd.to_datetime(c_a['StartTime']).dt.day_name()\n",
    "c_a['StartTime'] = pd.to_datetime(c_a['StartTime'])\n",
    "c_a['StartHour'] = c_a['StartTime'].dt.round('H').dt.time"
   ]
  },
  {
   "cell_type": "code",
   "execution_count": 264,
   "metadata": {},
   "outputs": [],
   "source": [
    "c_b['TravelTime']= pd.to_datetime(c_b['completed_time'])-pd.to_datetime(c_b['start_time'])\n",
    "c_b['TravelTime_minute'] = pd.to_timedelta(c_b['TravelTime']).dt.total_seconds()/60\n",
    "c_b['StartDate'] = pd.to_datetime(c_b['start_time']).dt.date\n",
    "c_b['StartDay']= pd.to_datetime(c_b['start_time']).dt.day_name()\n",
    "c_b['start_time'] = pd.to_datetime(c_b['start_time'])\n",
    "c_b['StartHour'] = c_b['start_time'].dt.round('H').dt.time"
   ]
  },
  {
   "cell_type": "code",
   "execution_count": 265,
   "metadata": {},
   "outputs": [
    {
     "data": {
      "text/html": [
       "<div>\n",
       "<style scoped>\n",
       "    .dataframe tbody tr th:only-of-type {\n",
       "        vertical-align: middle;\n",
       "    }\n",
       "\n",
       "    .dataframe tbody tr th {\n",
       "        vertical-align: top;\n",
       "    }\n",
       "\n",
       "    .dataframe thead th {\n",
       "        text-align: right;\n",
       "    }\n",
       "</style>\n",
       "<table border=\"1\" class=\"dataframe\">\n",
       "  <thead>\n",
       "    <tr style=\"text-align: right;\">\n",
       "      <th></th>\n",
       "      <th>StartLatitude</th>\n",
       "      <th>StartLongitude</th>\n",
       "      <th>EndLatitude</th>\n",
       "      <th>EndLongitude</th>\n",
       "      <th>TripDistance</th>\n",
       "      <th>TravelTime</th>\n",
       "      <th>TravelTime_minute</th>\n",
       "    </tr>\n",
       "  </thead>\n",
       "  <tbody>\n",
       "    <tr>\n",
       "      <th>count</th>\n",
       "      <td>56642.000000</td>\n",
       "      <td>56642.000000</td>\n",
       "      <td>56642.000000</td>\n",
       "      <td>56642.000000</td>\n",
       "      <td>5.664200e+04</td>\n",
       "      <td>56642</td>\n",
       "      <td>56642.000000</td>\n",
       "    </tr>\n",
       "    <tr>\n",
       "      <th>mean</th>\n",
       "      <td>38.243538</td>\n",
       "      <td>-85.745617</td>\n",
       "      <td>38.243184</td>\n",
       "      <td>-85.745516</td>\n",
       "      <td>1.509863e+02</td>\n",
       "      <td>0 days 00:15:42.322658</td>\n",
       "      <td>15.705378</td>\n",
       "    </tr>\n",
       "    <tr>\n",
       "      <th>std</th>\n",
       "      <td>0.015728</td>\n",
       "      <td>0.019426</td>\n",
       "      <td>0.016058</td>\n",
       "      <td>0.019388</td>\n",
       "      <td>1.360765e+04</td>\n",
       "      <td>0 days 00:29:30.841157</td>\n",
       "      <td>29.514019</td>\n",
       "    </tr>\n",
       "    <tr>\n",
       "      <th>min</th>\n",
       "      <td>38.150000</td>\n",
       "      <td>-85.850000</td>\n",
       "      <td>38.200000</td>\n",
       "      <td>-85.780000</td>\n",
       "      <td>-1.034441e+04</td>\n",
       "      <td>0 days 00:00:00</td>\n",
       "      <td>0.000000</td>\n",
       "    </tr>\n",
       "    <tr>\n",
       "      <th>5%</th>\n",
       "      <td>38.220000</td>\n",
       "      <td>-85.760000</td>\n",
       "      <td>38.210000</td>\n",
       "      <td>-85.760000</td>\n",
       "      <td>0.000000e+00</td>\n",
       "      <td>0 days 00:02:00</td>\n",
       "      <td>2.000000</td>\n",
       "    </tr>\n",
       "    <tr>\n",
       "      <th>25%</th>\n",
       "      <td>38.230000</td>\n",
       "      <td>-85.760000</td>\n",
       "      <td>38.230000</td>\n",
       "      <td>-85.760000</td>\n",
       "      <td>2.900000e-01</td>\n",
       "      <td>0 days 00:04:00</td>\n",
       "      <td>4.000000</td>\n",
       "    </tr>\n",
       "    <tr>\n",
       "      <th>50%</th>\n",
       "      <td>38.250000</td>\n",
       "      <td>-85.750000</td>\n",
       "      <td>38.250000</td>\n",
       "      <td>-85.750000</td>\n",
       "      <td>7.500000e-01</td>\n",
       "      <td>0 days 00:09:00</td>\n",
       "      <td>9.000000</td>\n",
       "    </tr>\n",
       "    <tr>\n",
       "      <th>75%</th>\n",
       "      <td>38.260000</td>\n",
       "      <td>-85.740000</td>\n",
       "      <td>38.260000</td>\n",
       "      <td>-85.740000</td>\n",
       "      <td>1.700000e+00</td>\n",
       "      <td>0 days 00:19:00</td>\n",
       "      <td>19.000000</td>\n",
       "    </tr>\n",
       "    <tr>\n",
       "      <th>99.5%</th>\n",
       "      <td>38.270000</td>\n",
       "      <td>-85.690000</td>\n",
       "      <td>38.270000</td>\n",
       "      <td>-85.690000</td>\n",
       "      <td>9.820000e+00</td>\n",
       "      <td>0 days 01:52:00</td>\n",
       "      <td>112.000000</td>\n",
       "    </tr>\n",
       "    <tr>\n",
       "      <th>max</th>\n",
       "      <td>38.320000</td>\n",
       "      <td>-85.560000</td>\n",
       "      <td>38.270000</td>\n",
       "      <td>-85.670000</td>\n",
       "      <td>1.334378e+06</td>\n",
       "      <td>2 days 04:47:00</td>\n",
       "      <td>3167.000000</td>\n",
       "    </tr>\n",
       "  </tbody>\n",
       "</table>\n",
       "</div>"
      ],
      "text/plain": [
       "       StartLatitude  StartLongitude   EndLatitude  EndLongitude  \\\n",
       "count   56642.000000    56642.000000  56642.000000  56642.000000   \n",
       "mean       38.243538      -85.745617     38.243184    -85.745516   \n",
       "std         0.015728        0.019426      0.016058      0.019388   \n",
       "min        38.150000      -85.850000     38.200000    -85.780000   \n",
       "5%         38.220000      -85.760000     38.210000    -85.760000   \n",
       "25%        38.230000      -85.760000     38.230000    -85.760000   \n",
       "50%        38.250000      -85.750000     38.250000    -85.750000   \n",
       "75%        38.260000      -85.740000     38.260000    -85.740000   \n",
       "99.5%      38.270000      -85.690000     38.270000    -85.690000   \n",
       "max        38.320000      -85.560000     38.270000    -85.670000   \n",
       "\n",
       "       TripDistance              TravelTime  TravelTime_minute  \n",
       "count  5.664200e+04                   56642       56642.000000  \n",
       "mean   1.509863e+02  0 days 00:15:42.322658          15.705378  \n",
       "std    1.360765e+04  0 days 00:29:30.841157          29.514019  \n",
       "min   -1.034441e+04         0 days 00:00:00           0.000000  \n",
       "5%     0.000000e+00         0 days 00:02:00           2.000000  \n",
       "25%    2.900000e-01         0 days 00:04:00           4.000000  \n",
       "50%    7.500000e-01         0 days 00:09:00           9.000000  \n",
       "75%    1.700000e+00         0 days 00:19:00          19.000000  \n",
       "99.5%  9.820000e+00         0 days 01:52:00         112.000000  \n",
       "max    1.334378e+06         2 days 04:47:00        3167.000000  "
      ]
     },
     "execution_count": 265,
     "metadata": {},
     "output_type": "execute_result"
    }
   ],
   "source": [
    "c_a.describe([.05,.25,.75,.995])"
   ]
  },
  {
   "cell_type": "code",
   "execution_count": 266,
   "metadata": {},
   "outputs": [
    {
     "data": {
      "image/png": "[encoded data removed]",
      "text/plain": [
       "<Figure size 432x288 with 1 Axes>"
      ]
     },
     "metadata": {
      "needs_background": "light"
     },
     "output_type": "display_data"
    }
   ],
   "source": [
    "c_a['TravelTime_minute'].hist()\n",
    "plt.xlabel('Minutes traveled')\n",
    "plt.ylabel('count')\n",
    "plt.yscale('log')\n",
    "plt.title('Company A')\n",
    "plt.show()\n"
   ]
  },
  {
   "cell_type": "code",
   "execution_count": 267,
   "metadata": {},
   "outputs": [
    {
     "data": {
      "text/html": [
       "<div>\n",
       "<style scoped>\n",
       "    .dataframe tbody tr th:only-of-type {\n",
       "        vertical-align: middle;\n",
       "    }\n",
       "\n",
       "    .dataframe tbody tr th {\n",
       "        vertical-align: top;\n",
       "    }\n",
       "\n",
       "    .dataframe thead th {\n",
       "        text-align: right;\n",
       "    }\n",
       "</style>\n",
       "<table border=\"1\" class=\"dataframe\">\n",
       "  <thead>\n",
       "    <tr style=\"text-align: right;\">\n",
       "      <th></th>\n",
       "      <th>trip_id</th>\n",
       "      <th>distance_meters</th>\n",
       "      <th>start_latitude</th>\n",
       "      <th>start_longitude</th>\n",
       "      <th>end_latitude</th>\n",
       "      <th>end_longitude</th>\n",
       "      <th>TravelTime</th>\n",
       "      <th>TravelTime_minute</th>\n",
       "    </tr>\n",
       "  </thead>\n",
       "  <tbody>\n",
       "    <tr>\n",
       "      <th>count</th>\n",
       "      <td>1.047000e+04</td>\n",
       "      <td>10470.000000</td>\n",
       "      <td>10470.000000</td>\n",
       "      <td>10470.000000</td>\n",
       "      <td>10470.000000</td>\n",
       "      <td>10470.000000</td>\n",
       "      <td>10470</td>\n",
       "      <td>10470.000000</td>\n",
       "    </tr>\n",
       "    <tr>\n",
       "      <th>mean</th>\n",
       "      <td>3.251371e+07</td>\n",
       "      <td>1452.447469</td>\n",
       "      <td>38.233387</td>\n",
       "      <td>-85.754223</td>\n",
       "      <td>38.233223</td>\n",
       "      <td>-85.753885</td>\n",
       "      <td>0 days 00:13:08.123973</td>\n",
       "      <td>13.135400</td>\n",
       "    </tr>\n",
       "    <tr>\n",
       "      <th>std</th>\n",
       "      <td>3.247726e+06</td>\n",
       "      <td>2131.525764</td>\n",
       "      <td>0.017863</td>\n",
       "      <td>0.012760</td>\n",
       "      <td>0.018010</td>\n",
       "      <td>0.013617</td>\n",
       "      <td>0 days 00:19:34.193058</td>\n",
       "      <td>19.569884</td>\n",
       "    </tr>\n",
       "    <tr>\n",
       "      <th>min</th>\n",
       "      <td>2.626508e+07</td>\n",
       "      <td>0.000000</td>\n",
       "      <td>38.160000</td>\n",
       "      <td>-85.810000</td>\n",
       "      <td>38.200000</td>\n",
       "      <td>-85.780000</td>\n",
       "      <td>0 days 00:00:07</td>\n",
       "      <td>0.116667</td>\n",
       "    </tr>\n",
       "    <tr>\n",
       "      <th>5%</th>\n",
       "      <td>2.673888e+07</td>\n",
       "      <td>22.000000</td>\n",
       "      <td>38.210000</td>\n",
       "      <td>-85.760000</td>\n",
       "      <td>38.210000</td>\n",
       "      <td>-85.770000</td>\n",
       "      <td>0 days 00:01:42</td>\n",
       "      <td>1.700000</td>\n",
       "    </tr>\n",
       "    <tr>\n",
       "      <th>25%</th>\n",
       "      <td>2.978436e+07</td>\n",
       "      <td>477.000000</td>\n",
       "      <td>38.220000</td>\n",
       "      <td>-85.760000</td>\n",
       "      <td>38.220000</td>\n",
       "      <td>-85.760000</td>\n",
       "      <td>0 days 00:03:38</td>\n",
       "      <td>3.633333</td>\n",
       "    </tr>\n",
       "    <tr>\n",
       "      <th>50%</th>\n",
       "      <td>3.304597e+07</td>\n",
       "      <td>907.000000</td>\n",
       "      <td>38.230000</td>\n",
       "      <td>-85.760000</td>\n",
       "      <td>38.230000</td>\n",
       "      <td>-85.760000</td>\n",
       "      <td>0 days 00:06:14</td>\n",
       "      <td>6.233333</td>\n",
       "    </tr>\n",
       "    <tr>\n",
       "      <th>75%</th>\n",
       "      <td>3.501236e+07</td>\n",
       "      <td>1727.750000</td>\n",
       "      <td>38.250000</td>\n",
       "      <td>-85.750000</td>\n",
       "      <td>38.250000</td>\n",
       "      <td>-85.750000</td>\n",
       "      <td>0 days 00:13:25</td>\n",
       "      <td>13.416667</td>\n",
       "    </tr>\n",
       "    <tr>\n",
       "      <th>99.5%</th>\n",
       "      <td>3.718173e+07</td>\n",
       "      <td>9387.470000</td>\n",
       "      <td>38.260000</td>\n",
       "      <td>-85.700000</td>\n",
       "      <td>38.270000</td>\n",
       "      <td>-85.700000</td>\n",
       "      <td>0 days 01:51:07.340000</td>\n",
       "      <td>111.122333</td>\n",
       "    </tr>\n",
       "    <tr>\n",
       "      <th>max</th>\n",
       "      <td>3.759851e+07</td>\n",
       "      <td>100000.000000</td>\n",
       "      <td>38.270000</td>\n",
       "      <td>-85.660000</td>\n",
       "      <td>38.270000</td>\n",
       "      <td>-85.690000</td>\n",
       "      <td>0 days 11:36:48</td>\n",
       "      <td>696.800000</td>\n",
       "    </tr>\n",
       "  </tbody>\n",
       "</table>\n",
       "</div>"
      ],
      "text/plain": [
       "            trip_id  distance_meters  start_latitude  start_longitude  \\\n",
       "count  1.047000e+04     10470.000000    10470.000000     10470.000000   \n",
       "mean   3.251371e+07      1452.447469       38.233387       -85.754223   \n",
       "std    3.247726e+06      2131.525764        0.017863         0.012760   \n",
       "min    2.626508e+07         0.000000       38.160000       -85.810000   \n",
       "5%     2.673888e+07        22.000000       38.210000       -85.760000   \n",
       "25%    2.978436e+07       477.000000       38.220000       -85.760000   \n",
       "50%    3.304597e+07       907.000000       38.230000       -85.760000   \n",
       "75%    3.501236e+07      1727.750000       38.250000       -85.750000   \n",
       "99.5%  3.718173e+07      9387.470000       38.260000       -85.700000   \n",
       "max    3.759851e+07    100000.000000       38.270000       -85.660000   \n",
       "\n",
       "       end_latitude  end_longitude              TravelTime  TravelTime_minute  \n",
       "count  10470.000000   10470.000000                   10470       10470.000000  \n",
       "mean      38.233223     -85.753885  0 days 00:13:08.123973          13.135400  \n",
       "std        0.018010       0.013617  0 days 00:19:34.193058          19.569884  \n",
       "min       38.200000     -85.780000         0 days 00:00:07           0.116667  \n",
       "5%        38.210000     -85.770000         0 days 00:01:42           1.700000  \n",
       "25%       38.220000     -85.760000         0 days 00:03:38           3.633333  \n",
       "50%       38.230000     -85.760000         0 days 00:06:14           6.233333  \n",
       "75%       38.250000     -85.750000         0 days 00:13:25          13.416667  \n",
       "99.5%     38.270000     -85.700000  0 days 01:51:07.340000         111.122333  \n",
       "max       38.270000     -85.690000         0 days 11:36:48         696.800000  "
      ]
     },
     "execution_count": 267,
     "metadata": {},
     "output_type": "execute_result"
    }
   ],
   "source": [
    "c_b.describe([.05,.25,.75,.995])"
   ]
  },
  {
   "cell_type": "code",
   "execution_count": 268,
   "metadata": {},
   "outputs": [
    {
     "data": {
      "image/png": "[encoded data removed]",
      "text/plain": [
       "<Figure size 432x288 with 1 Axes>"
      ]
     },
     "metadata": {
      "needs_background": "light"
     },
     "output_type": "display_data"
    }
   ],
   "source": [
    "c_b['TravelTime_minute'].hist()\n",
    "plt.xlabel('Minutes traveled')\n",
    "plt.ylabel('count')\n",
    "plt.yscale('log')\n",
    "plt.title('Company B')\n",
    "plt.show()"
   ]
  },
  {
   "cell_type": "markdown",
   "metadata": {},
   "source": [
    " We notice from our initial cleaning, the outliers for end latitudes and longitudes have been removed. We notice a similar pattern in TravelTime, where most of the data are within short time intervals with max being much larger than the 99.5% quantile. We again apply the rule of thumb and use the restrict_percentile function to eliminate outliers"
   ]
  },
  {
   "cell_type": "code",
   "execution_count": 269,
   "metadata": {},
   "outputs": [],
   "source": [
    "c_a = restrict_percentile(c_a,['TravelTime'])\n",
    "c_b = restrict_percentile(c_b,['TravelTime'])"
   ]
  },
  {
   "cell_type": "code",
   "execution_count": 270,
   "metadata": {},
   "outputs": [
    {
     "name": "stdout",
     "output_type": "stream",
     "text": [
      "0 days 01:52:00\n",
      "0 days 01:50:49\n"
     ]
    }
   ],
   "source": [
    "print(max(c_a['TravelTime']))\n",
    "print(max(c_b['TravelTime']))"
   ]
  },
  {
   "cell_type": "markdown",
   "metadata": {},
   "source": [
    "By trimming down each dataset by 3% (removing 1% for each column, (EndLatitude, EndLongitude,TravelTime)) we have gotten a dataset free of outliers, which we will use for the rest of our analysis"
   ]
  },
  {
   "cell_type": "markdown",
   "metadata": {},
   "source": [
    "## User Activity Exploration\n",
    "Now that we have cleaned up our dataset we can look at how our user is using our service. We shall break this down into 2 components. \n",
    "1. Number of rides on a daily level over a week\n",
    "2. Number of rides on a hourly level over a week\n"
   ]
  },
  {
   "cell_type": "markdown",
   "metadata": {},
   "source": [
    "### Number of Rides on a daily level"
   ]
  },
  {
   "cell_type": "code",
   "execution_count": 271,
   "metadata": {},
   "outputs": [
    {
     "data": {
      "image/png": "[encoded data removed]",
      "text/plain": [
       "<Figure size 1440x360 with 2 Axes>"
      ]
     },
     "metadata": {
      "needs_background": "light"
     },
     "output_type": "display_data"
    }
   ],
   "source": [
    "c_days = c_a['StartDay'].value_counts()\n",
    "c_days_b = c_b['StartDay'].value_counts()\n",
    "\n",
    "fig, ax =plt.subplots(1,2,figsize=(20,5))\n",
    "sns.barplot(c_days.index, c_days.values, alpha=0.8,order=['Monday','Tuesday','Wednesday','Thursday','Friday','Saturday','Sunday'],ax=ax[0],)\n",
    "sns.barplot(c_days_b.index, c_days_b.values, alpha=0.8,order=['Monday','Tuesday','Wednesday','Thursday','Friday','Saturday','Sunday'],ax=ax[1])\n",
    "\n",
    "ax[0].set_title('Company A')\n",
    "ax[0].set_xlabel('Days of Week')\n",
    "ax[0].set_ylabel('Number of Rides')\n",
    "ax[1].set_title('Company B')\n",
    "ax[1].set_xlabel('Days of Week')\n",
    "ax[1].set_ylabel('Number of Rides')\n",
    "plt.show()"
   ]
  },
  {
   "cell_type": "markdown",
   "metadata": {},
   "source": [
    "Looking at this breakdown of rides on a week level we notice that company A and company B attract different types of riders. Company A has more rides on the weekends, while company B has a more uniform distribution of ride volume throughout the week."
   ]
  },
  {
   "cell_type": "markdown",
   "metadata": {},
   "source": [
    "### Number of rides on an hourly level"
   ]
  },
  {
   "cell_type": "code",
   "execution_count": 272,
   "metadata": {},
   "outputs": [],
   "source": [
    "# Retructuring data\n",
    "data_a =  c_a.groupby(['StartHour','StartDay']).count()['TripID'].unstack()\n",
    "data_b =  c_b.groupby(['StartHour','StartDay']).count()['trip_id'].unstack()\n",
    "# Reordering columns\n",
    "data_a = data_a[['Monday', 'Tuesday', 'Wednesday', 'Thursday', 'Friday', 'Saturday', 'Sunday']].fillna(0)\n",
    "data_b = data_b[['Monday', 'Tuesday', 'Wednesday', 'Thursday', 'Friday', 'Saturday', 'Sunday']].fillna(0)"
   ]
  },
  {
   "cell_type": "code",
   "execution_count": 273,
   "metadata": {},
   "outputs": [
    {
     "data": {
      "image/png": "[encoded data removed]",
      "text/plain": [
       "<Figure size 1584x576 with 3 Axes>"
      ]
     },
     "metadata": {
      "needs_background": "light"
     },
     "output_type": "display_data"
    }
   ],
   "source": [
    "fig, ax =plt.subplots(1,3,figsize=(22,8),gridspec_kw={'width_ratios':[1,1,0.07]})\n",
    "sns.heatmap(data_a,cmap=\"Blues\",cbar=False,ax=ax[0])\n",
    "sns.heatmap(data_b,cmap=\"Blues\",ax=ax[1],cbar_ax=ax[2])\n",
    "ax[0].set_title('Company A')\n",
    "ax[0].set_ylabel('Hour of Day')\n",
    "ax[0].set_xlabel('Day of Week')\n",
    "ax[1].set_title('Company B')\n",
    "ax[1].set_ylabel('Hour of Day')\n",
    "ax[1].set_xlabel('Day of Week')\n",
    "plt.show()\n"
   ]
  },
  {
   "cell_type": "markdown",
   "metadata": {},
   "source": [
    "From the above heatmap we can see most of Company A's rides are taken between 11:00 am to 8:00pm, while Company B's rides seem to have a more spread out time span, with different days experiencing different time span of rides (ex. Saturday rides start later and end later)."
   ]
  },
  {
   "cell_type": "markdown",
   "metadata": {},
   "source": [
    "## Trip Duration/Length\n",
    "- Explore Travel Time\n",
    "- Explore Travel distance"
   ]
  },
  {
   "cell_type": "code",
   "execution_count": 274,
   "metadata": {},
   "outputs": [
    {
     "data": {
      "image/png": "[encoded data removed]",
      "text/plain": [
       "<Figure size 1584x576 with 4 Axes>"
      ]
     },
     "metadata": {},
     "output_type": "display_data"
    }
   ],
   "source": [
    "sns.set(style=\"ticks\")\n",
    "\n",
    "\n",
    "f, ax = plt.subplots(2,2, figsize=(22,8), sharex=True,gridspec_kw={\"height_ratios\": [.15, .85]})\n",
    "sns.boxplot(c_a['TravelTime_minute'], ax=ax[0][0])\n",
    "sns.distplot(c_a['TravelTime_minute'], ax=ax[1][0],kde=False)\n",
    "sns.boxplot(c_b['TravelTime_minute'], ax=ax[0][1])\n",
    "sns.distplot(c_b['TravelTime_minute'], ax=ax[1][1], kde=False)\n",
    "ax[0][0].set(xlabel='')\n",
    "ax[0][0].set_title('Company A')\n",
    "ax[0][1].set(xlabel='')\n",
    "ax[0][1].set_title('Company B')\n",
    "ax[1][0].set(xlabel='Travel time in minutes (Company A)')\n",
    "ax[1][0].set(ylabel='Frequency')\n",
    "ax[1][1].set(xlabel='Travel time in minutes (Company B)')\n",
    "ax[1][1].set(ylabel='Frequency')\n",
    "plt.show()"
   ]
  },
  {
   "cell_type": "code",
   "execution_count": 275,
   "metadata": {},
   "outputs": [
    {
     "name": "stdout",
     "output_type": "stream",
     "text": [
      "company a median 8.000000000000002\n",
      "company b median 6.233333333333333\n"
     ]
    }
   ],
   "source": [
    "print(f'company a median {c_a[\"TravelTime_minute\"].median()}')\n",
    "print(f'company b median {c_b[\"TravelTime_minute\"].median()}')      "
   ]
  },
  {
   "cell_type": "markdown",
   "metadata": {},
   "source": [
    "It seems in general both companies have short rides, with over 75% of rides being under 40 minutes and having medians of 8 and 6 minutes respectively."
   ]
  },
  {
   "cell_type": "markdown",
   "metadata": {},
   "source": [
    "### Travel distance\n",
    "- We will not be examining company a due to undefined distance metric\n",
    "- We will look at company b's distance distribution once we remove 0 values and outliers"
   ]
  },
  {
   "cell_type": "markdown",
   "metadata": {},
   "source": [
    "From our initial eda we observe distance_meters defined in c_b has many values set at 0 and a max distance of 100000. We shall remove these values and continue our observation"
   ]
  },
  {
   "cell_type": "code",
   "execution_count": 276,
   "metadata": {},
   "outputs": [],
   "source": [
    "c_b_distance = c_b[(c_b['distance_meters']>0) & (c_b['distance_meters']<100000)]"
   ]
  },
  {
   "cell_type": "code",
   "execution_count": 277,
   "metadata": {},
   "outputs": [
    {
     "data": {
      "image/png": "[encoded data removed]",
      "text/plain": [
       "<Figure size 432x288 with 1 Axes>"
      ]
     },
     "metadata": {},
     "output_type": "display_data"
    }
   ],
   "source": [
    "sns.distplot(c_b_distance['distance_meters'],kde=False)\n",
    "plt.title('Distance Traveled by Trip')\n",
    "plt.xlabel('Distance in meters')\n",
    "plt.ylabel('Frequency')\n",
    "plt.show()\n"
   ]
  },
  {
   "cell_type": "code",
   "execution_count": 278,
   "metadata": {},
   "outputs": [
    {
     "data": {
      "text/plain": [
       "count    10001.000000\n",
       "mean      1479.905309\n",
       "std       1616.360648\n",
       "min          1.000000\n",
       "25%        527.000000\n",
       "50%        946.000000\n",
       "75%       1768.000000\n",
       "max      16676.000000\n",
       "Name: distance_meters, dtype: float64"
      ]
     },
     "execution_count": 278,
     "metadata": {},
     "output_type": "execute_result"
    }
   ],
   "source": [
    "c_b_distance['distance_meters'].describe()"
   ]
  },
  {
   "cell_type": "code",
   "execution_count": 279,
   "metadata": {},
   "outputs": [
    {
     "data": {
      "text/plain": [
       "Text(0, 0.5, 'Distance in Meters')"
      ]
     },
     "execution_count": 279,
     "metadata": {},
     "output_type": "execute_result"
    },
    {
     "data": {
      "image/png": "[encoded data removed]",
      "text/plain": [
       "<Figure size 432x288 with 1 Axes>"
      ]
     },
     "metadata": {},
     "output_type": "display_data"
    }
   ],
   "source": [
    "plt.scatter(c_b_distance['TravelTime_minute'],c_b_distance['distance_meters'])\n",
    "plt.title('Distance traveled over time')\n",
    "plt.xlabel('Time in Minutes')\n",
    "plt.ylabel('Distance in Meters')"
   ]
  },
  {
   "cell_type": "code",
   "execution_count": 280,
   "metadata": {},
   "outputs": [
    {
     "data": {
      "text/plain": [
       "0.6932641903177296"
      ]
     },
     "execution_count": 280,
     "metadata": {},
     "output_type": "execute_result"
    }
   ],
   "source": [
    "c_b_distance['TravelTime_minute'].corr(c_b_distance['distance_meters'])"
   ]
  },
  {
   "cell_type": "markdown",
   "metadata": {},
   "source": [
    "We see most trips are relatively short with a median of under 1km and no trips exceeding 20km with outliers removed.\n",
    "We notice a slight correlation between distance and time. One unusual data point worth mentioning is one scooter has traveled around 17km in under 10 minutes, which is considered extremely fast even for a car."
   ]
  },
  {
   "cell_type": "markdown",
   "metadata": {},
   "source": [
    "## Location of Operation\n",
    "- We shall look at the spread and locations of Latitude and Longitude\n",
    "- I shall externally look at these coordinates through Google maps to have a clearer understanding"
   ]
  },
  {
   "cell_type": "code",
   "execution_count": 281,
   "metadata": {},
   "outputs": [
    {
     "data": {
      "text/html": [
       "<div>\n",
       "<style scoped>\n",
       "    .dataframe tbody tr th:only-of-type {\n",
       "        vertical-align: middle;\n",
       "    }\n",
       "\n",
       "    .dataframe tbody tr th {\n",
       "        vertical-align: top;\n",
       "    }\n",
       "\n",
       "    .dataframe thead th {\n",
       "        text-align: right;\n",
       "    }\n",
       "</style>\n",
       "<table border=\"1\" class=\"dataframe\">\n",
       "  <thead>\n",
       "    <tr style=\"text-align: right;\">\n",
       "      <th></th>\n",
       "      <th>StartLongitude</th>\n",
       "      <th>StartLatitude</th>\n",
       "      <th>EndLongitude</th>\n",
       "      <th>EndLatitude</th>\n",
       "    </tr>\n",
       "  </thead>\n",
       "  <tbody>\n",
       "    <tr>\n",
       "      <th>count</th>\n",
       "      <td>56362.000000</td>\n",
       "      <td>56362.000000</td>\n",
       "      <td>56362.000000</td>\n",
       "      <td>56362.000000</td>\n",
       "    </tr>\n",
       "    <tr>\n",
       "      <th>mean</th>\n",
       "      <td>-85.745631</td>\n",
       "      <td>38.243519</td>\n",
       "      <td>-85.745536</td>\n",
       "      <td>38.243180</td>\n",
       "    </tr>\n",
       "    <tr>\n",
       "      <th>std</th>\n",
       "      <td>0.019422</td>\n",
       "      <td>0.015740</td>\n",
       "      <td>0.019378</td>\n",
       "      <td>0.016067</td>\n",
       "    </tr>\n",
       "    <tr>\n",
       "      <th>min</th>\n",
       "      <td>-85.850000</td>\n",
       "      <td>38.150000</td>\n",
       "      <td>-85.780000</td>\n",
       "      <td>38.200000</td>\n",
       "    </tr>\n",
       "    <tr>\n",
       "      <th>25%</th>\n",
       "      <td>-85.760000</td>\n",
       "      <td>38.230000</td>\n",
       "      <td>-85.760000</td>\n",
       "      <td>38.230000</td>\n",
       "    </tr>\n",
       "    <tr>\n",
       "      <th>50%</th>\n",
       "      <td>-85.750000</td>\n",
       "      <td>38.250000</td>\n",
       "      <td>-85.750000</td>\n",
       "      <td>38.250000</td>\n",
       "    </tr>\n",
       "    <tr>\n",
       "      <th>75%</th>\n",
       "      <td>-85.740000</td>\n",
       "      <td>38.260000</td>\n",
       "      <td>-85.740000</td>\n",
       "      <td>38.260000</td>\n",
       "    </tr>\n",
       "    <tr>\n",
       "      <th>max</th>\n",
       "      <td>-85.560000</td>\n",
       "      <td>38.320000</td>\n",
       "      <td>-85.670000</td>\n",
       "      <td>38.270000</td>\n",
       "    </tr>\n",
       "  </tbody>\n",
       "</table>\n",
       "</div>"
      ],
      "text/plain": [
       "       StartLongitude  StartLatitude  EndLongitude   EndLatitude\n",
       "count    56362.000000   56362.000000  56362.000000  56362.000000\n",
       "mean       -85.745631      38.243519    -85.745536     38.243180\n",
       "std          0.019422       0.015740      0.019378      0.016067\n",
       "min        -85.850000      38.150000    -85.780000     38.200000\n",
       "25%        -85.760000      38.230000    -85.760000     38.230000\n",
       "50%        -85.750000      38.250000    -85.750000     38.250000\n",
       "75%        -85.740000      38.260000    -85.740000     38.260000\n",
       "max        -85.560000      38.320000    -85.670000     38.270000"
      ]
     },
     "execution_count": 281,
     "metadata": {},
     "output_type": "execute_result"
    }
   ],
   "source": [
    "c_a[['StartLongitude','StartLatitude','EndLongitude','EndLatitude']].describe()"
   ]
  },
  {
   "cell_type": "code",
   "execution_count": 282,
   "metadata": {},
   "outputs": [
    {
     "name": "stdout",
     "output_type": "stream",
     "text": [
      "most common starting coordinates for company a: (-85.76, 38.25)\n",
      "most common ending coordinates for company a: (-85.76, 38.25)\n"
     ]
    }
   ],
   "source": [
    "# Get most common starting and ending coordinates for company a\n",
    "c_a['start'] = c_a.apply(lambda x: (x['StartLongitude'],x['StartLatitude']),axis=1)\n",
    "c_a['end'] = c_a.apply(lambda x: (x['EndLongitude'],x['EndLatitude']),axis=1)\n",
    "print(f'most common starting coordinates for company a: {c_a.groupby(\"start\")[\"TripID\"].count().idxmax()}')\n",
    "print(f'most common ending coordinates for company a: {c_a.groupby(\"end\")[\"TripID\"].count().idxmax()}')"
   ]
  },
  {
   "cell_type": "code",
   "execution_count": 283,
   "metadata": {},
   "outputs": [
    {
     "name": "stderr",
     "output_type": "stream",
     "text": [
      "/anaconda3/lib/python3.7/site-packages/ipykernel_launcher.py:2: DeprecationWarning: Vincenty is deprecated and is going to be removed in geopy 2.0. Use `geopy.distance.geodesic` (or the default `geopy.distance.distance`) instead, which is more accurate and always converges.\n",
      "  \n"
     ]
    },
    {
     "name": "stdout",
     "output_type": "stream",
     "text": [
      "count    56362.000000\n",
      "mean         0.632339\n",
      "std          0.986969\n",
      "min          0.000000\n",
      "25%          0.000000\n",
      "50%          0.082579\n",
      "75%          1.116878\n",
      "max         16.760876\n",
      "Name: start_end_distance, dtype: float64\n"
     ]
    },
    {
     "data": {
      "image/png": "[encoded data removed]",
      "text/plain": [
       "<Figure size 432x288 with 1 Axes>"
      ]
     },
     "metadata": {},
     "output_type": "display_data"
    }
   ],
   "source": [
    "# Get information on distance between start and end points for company a\n",
    "c_a['start_end_distance'] = c_a.apply(lambda x: vincenty(x['start'],x['end']).km,axis=1)\n",
    "print(c_a['start_end_distance'].describe())\n",
    "sns.distplot(c_a['start_end_distance'],kde=False)\n",
    "plt.xlabel('Distance in km')\n",
    "plt.ylabel('Frequency')\n",
    "plt.show()"
   ]
  },
  {
   "cell_type": "code",
   "execution_count": 284,
   "metadata": {},
   "outputs": [
    {
     "name": "stdout",
     "output_type": "stream",
     "text": [
      "number of unique company a start locations 136\n"
     ]
    }
   ],
   "source": [
    "print (f'number of unique company a start locations {len(c_a[\"start\"].value_counts())}')"
   ]
  },
  {
   "cell_type": "code",
   "execution_count": 285,
   "metadata": {},
   "outputs": [
    {
     "data": {
      "text/html": [
       "<div>\n",
       "<style scoped>\n",
       "    .dataframe tbody tr th:only-of-type {\n",
       "        vertical-align: middle;\n",
       "    }\n",
       "\n",
       "    .dataframe tbody tr th {\n",
       "        vertical-align: top;\n",
       "    }\n",
       "\n",
       "    .dataframe thead th {\n",
       "        text-align: right;\n",
       "    }\n",
       "</style>\n",
       "<table border=\"1\" class=\"dataframe\">\n",
       "  <thead>\n",
       "    <tr style=\"text-align: right;\">\n",
       "      <th></th>\n",
       "      <th>start_longitude</th>\n",
       "      <th>start_latitude</th>\n",
       "      <th>end_latitude</th>\n",
       "      <th>end_longitude</th>\n",
       "    </tr>\n",
       "  </thead>\n",
       "  <tbody>\n",
       "    <tr>\n",
       "      <th>count</th>\n",
       "      <td>10367.000000</td>\n",
       "      <td>10367.000000</td>\n",
       "      <td>10367.000000</td>\n",
       "      <td>10367.000000</td>\n",
       "    </tr>\n",
       "    <tr>\n",
       "      <th>mean</th>\n",
       "      <td>-85.754235</td>\n",
       "      <td>38.233373</td>\n",
       "      <td>38.233205</td>\n",
       "      <td>-85.753898</td>\n",
       "    </tr>\n",
       "    <tr>\n",
       "      <th>std</th>\n",
       "      <td>0.012735</td>\n",
       "      <td>0.017865</td>\n",
       "      <td>0.018019</td>\n",
       "      <td>0.013600</td>\n",
       "    </tr>\n",
       "    <tr>\n",
       "      <th>min</th>\n",
       "      <td>-85.810000</td>\n",
       "      <td>38.160000</td>\n",
       "      <td>38.200000</td>\n",
       "      <td>-85.780000</td>\n",
       "    </tr>\n",
       "    <tr>\n",
       "      <th>25%</th>\n",
       "      <td>-85.760000</td>\n",
       "      <td>38.220000</td>\n",
       "      <td>38.220000</td>\n",
       "      <td>-85.760000</td>\n",
       "    </tr>\n",
       "    <tr>\n",
       "      <th>50%</th>\n",
       "      <td>-85.760000</td>\n",
       "      <td>38.230000</td>\n",
       "      <td>38.230000</td>\n",
       "      <td>-85.760000</td>\n",
       "    </tr>\n",
       "    <tr>\n",
       "      <th>75%</th>\n",
       "      <td>-85.750000</td>\n",
       "      <td>38.250000</td>\n",
       "      <td>38.250000</td>\n",
       "      <td>-85.750000</td>\n",
       "    </tr>\n",
       "    <tr>\n",
       "      <th>max</th>\n",
       "      <td>-85.660000</td>\n",
       "      <td>38.270000</td>\n",
       "      <td>38.270000</td>\n",
       "      <td>-85.690000</td>\n",
       "    </tr>\n",
       "  </tbody>\n",
       "</table>\n",
       "</div>"
      ],
      "text/plain": [
       "       start_longitude  start_latitude  end_latitude  end_longitude\n",
       "count     10367.000000    10367.000000  10367.000000   10367.000000\n",
       "mean        -85.754235       38.233373     38.233205     -85.753898\n",
       "std           0.012735        0.017865      0.018019       0.013600\n",
       "min         -85.810000       38.160000     38.200000     -85.780000\n",
       "25%         -85.760000       38.220000     38.220000     -85.760000\n",
       "50%         -85.760000       38.230000     38.230000     -85.760000\n",
       "75%         -85.750000       38.250000     38.250000     -85.750000\n",
       "max         -85.660000       38.270000     38.270000     -85.690000"
      ]
     },
     "execution_count": 285,
     "metadata": {},
     "output_type": "execute_result"
    }
   ],
   "source": [
    "c_b[['start_longitude','start_latitude','end_latitude','end_longitude']].describe()"
   ]
  },
  {
   "cell_type": "code",
   "execution_count": 286,
   "metadata": {},
   "outputs": [
    {
     "name": "stdout",
     "output_type": "stream",
     "text": [
      "most common starting coordinates for company b: (-85.76, 38.22)\n",
      "most common ending coordinates for company b: (-85.76, 38.22)\n"
     ]
    }
   ],
   "source": [
    "# Get most common starting and ending coordinates for company b\n",
    "c_b['start'] = c_b.apply(lambda x: (x['start_longitude'],x['start_latitude']),axis=1)\n",
    "c_b['end'] = c_b.apply(lambda x: (x['end_longitude'],x['end_latitude']),axis=1)\n",
    "print(f'most common starting coordinates for company b: {c_b.groupby(\"start\")[\"trip_id\"].count().idxmax()}')\n",
    "print(f'most common ending coordinates for company b: {c_b.groupby(\"end\")[\"trip_id\"].count().idxmax()}')"
   ]
  },
  {
   "cell_type": "code",
   "execution_count": 287,
   "metadata": {},
   "outputs": [
    {
     "name": "stderr",
     "output_type": "stream",
     "text": [
      "/anaconda3/lib/python3.7/site-packages/ipykernel_launcher.py:2: DeprecationWarning: Vincenty is deprecated and is going to be removed in geopy 2.0. Use `geopy.distance.geodesic` (or the default `geopy.distance.distance`) instead, which is more accurate and always converges.\n",
      "  \n"
     ]
    },
    {
     "name": "stdout",
     "output_type": "stream",
     "text": [
      "count    10367.000000\n",
      "mean         0.513169\n",
      "std          0.799849\n",
      "min          0.000000\n",
      "25%          0.000000\n",
      "50%          0.082579\n",
      "75%          1.116878\n",
      "max          7.829214\n",
      "Name: start_end_distance, dtype: float64\n"
     ]
    },
    {
     "data": {
      "image/png": "[encoded data removed]",
      "text/plain": [
       "<Figure size 432x288 with 1 Axes>"
      ]
     },
     "metadata": {},
     "output_type": "display_data"
    }
   ],
   "source": [
    "# Get information on distance between start and end points for company b\n",
    "c_b['start_end_distance'] = c_b.apply(lambda x: vincenty(x['start'],x['end']).km,axis=1)\n",
    "print(c_b['start_end_distance'].describe())\n",
    "sns.distplot(c_b['start_end_distance'],kde=False)\n",
    "plt.xlabel('Distance in km')\n",
    "plt.ylabel('Frequency')\n",
    "plt.show()"
   ]
  },
  {
   "cell_type": "code",
   "execution_count": 288,
   "metadata": {},
   "outputs": [
    {
     "name": "stdout",
     "output_type": "stream",
     "text": [
      "number of unique company b start locations 69\n"
     ]
    }
   ],
   "source": [
    "print (f'number of unique company b start locations {len(c_b[\"start\"].value_counts())}')"
   ]
  },
  {
   "cell_type": "markdown",
   "metadata": {},
   "source": [
    "From looking at external Google maps data of the most common starting/ending locations for company A and company B we see both companies operate out of Louisville Kentucky. One interesting thing to note is company A operates closer to the Ohio River, while company B operates more inland. This may help explain why company A sees more business on the weekends (rides along the river during weekends?), while Company B experiences more uniform traffic throughout the week. A quick look at distance between starting and end points shows us while most trips end under 1 km of the starting lat/lon, but there are occasional outliers. We also further note the scooters are dockless due to the amount of unique starting lat/lons. If there were docks, there would be very limited amount of starting lats/lons."
   ]
  },
  {
   "cell_type": "markdown",
   "metadata": {},
   "source": [
    "## Business Growth\n",
    "When examing business growth we shall look at the following core metrics:\n",
    "- Number of trips over months\n",
    "- Number of trips/Number of scooters per day "
   ]
  },
  {
   "cell_type": "markdown",
   "metadata": {},
   "source": [
    "### Trips overs Months"
   ]
  },
  {
   "cell_type": "code",
   "execution_count": 289,
   "metadata": {},
   "outputs": [
    {
     "data": {
      "image/png": "[encoded data removed]",
      "text/plain": [
       "<Figure size 1440x360 with 2 Axes>"
      ]
     },
     "metadata": {},
     "output_type": "display_data"
    }
   ],
   "source": [
    "c_a['StartMonth']=c_a['StartTime'].astype('datetime64[ns]').dt.month_name()\n",
    "c_month_a = c_a['StartMonth'].value_counts()\n",
    "c_b['StartMonth']=c_b['start_time'].astype('datetime64[ns]').dt.month_name()\n",
    "c_month_b = c_b['StartMonth'].value_counts()\n",
    "fig, ax =plt.subplots(1,2,figsize=(20,5))\n",
    "sns.barplot(c_month_a.index, c_month_a.values, alpha=0.8,order=['August','September','October','November','December'],ax=ax[0])\n",
    "sns.barplot(c_month_b.index, c_month_b.values, alpha=0.8,order=['December','January'],ax=ax[1])\n",
    "\n",
    "ax[0].set_title('Rides broken down by Month, Company A (2018)')\n",
    "ax[0].set_ylabel('Number of Rides', fontsize=12)\n",
    "ax[0].set_xlabel('Rides over month', fontsize=12)\n",
    "ax[1].set_title('Rides broken down by Month, Company B (2018-2019)')\n",
    "ax[1].set_ylabel('Number of Rides', fontsize=12)\n",
    "ax[1].set_xlabel('Rides over month', fontsize=12)\n",
    "plt.show()"
   ]
  },
  {
   "cell_type": "markdown",
   "metadata": {},
   "source": [
    "Company A seems to have increasing rides up until November. A hypothesis for this trend may be due to colder seasons attracting fewer riders. For company B, we only see a growth from December to January. This may be caused by a rise in popularity of the scooter itself, or a rise in temperature from December to January. Other things to warrant further exploration is if Company B has taken any of Company A's customers in the month of December"
   ]
  },
  {
   "cell_type": "markdown",
   "metadata": {},
   "source": [
    "### Trips volume / Scooter volume overtime\n",
    "- Number of trips over months is a raw metric of business success. A major drawback of this metric is that it fails to account for the availabilty of scooters. In an ideal scenario, as more scooters are injected into the market the amount of riders should grow with proportionally. (ex. if 10 scooters brings 20 riders, we should expect 100 scooters to bring 200 riders).\n",
    "- We define the metric trips per scooter (number of trips/number of scooters) to measure demand.\n",
    "- A high trips per scooter corresponds to situations where there are a high demand for scooters (a few scooters are getting multiple amount of rides) while a low trips per scooter corresponds to a low demand (many scooters are getting few rides). "
   ]
  },
  {
   "cell_type": "code",
   "execution_count": 290,
   "metadata": {},
   "outputs": [],
   "source": [
    "c_a['week'] = c_a['StartTime'].dt.strftime('%U')"
   ]
  },
  {
   "cell_type": "code",
   "execution_count": 291,
   "metadata": {},
   "outputs": [
    {
     "data": {
      "image/png": "[encoded data removed]",
      "text/plain": [
       "<Figure size 1080x360 with 1 Axes>"
      ]
     },
     "metadata": {},
     "output_type": "display_data"
    }
   ],
   "source": [
    "c_a_TS = c_a.groupby('week').TripID.size().reset_index()\n",
    "c_a_TS = c_a_TS.merge(c_a.groupby('week').ScooterID.nunique().reset_index(),on='week')\n",
    "c_a_TS['TS'] = c_a_TS['TripID']/c_a_TS['ScooterID']\n",
    "plt.figure(figsize=(15,5))\n",
    "sns.lineplot(x='week',y='TS',data=c_a_TS)\n",
    "plt.ylabel('Number of Trips per Scooter')\n",
    "plt.show()"
   ]
  },
  {
   "cell_type": "markdown",
   "metadata": {},
   "source": [
    "We plot how trips per scooter changes on a weekly basis to avoid noisiness of daily data. We notice initial growth followed by a steady decline as the year ends. Again this may be due to seasonal effects such as a cold winter"
   ]
  },
  {
   "cell_type": "markdown",
   "metadata": {},
   "source": [
    "# Summary\n",
    "\n",
    "Company A and B are dockless scooter companies that operate in Louisville Kentucky. Company A operates closer to water (the Ohio River) and company B operates more inland. Trips for both companies are under typically short with median trip times of 8 and 6 minutes respectively. Company B also shows us most trips are short with a median distance just under 1km.\n",
    "\n",
    "Company A tends to experience more rides on weekends, with most ride traffic coming in between 11:00 am and 8:00pm. Company B has a more uniform distribution of trips across the week with times of operation changing on a day to day basis. \n",
    "\n",
    "In terms of business growth Company A has been on a steady decline since November, with both total amount of trips and demand for trips (measured by trips per scooter) falling. A possible external explanation may be due to the arrival of winter. Meanwhile Company B has grown in number of trips since it began data tracking. An explanation for this may be due to novelty effect or January being warmer than December.\n",
    "\n"
   ]
  },
  {
   "cell_type": "markdown",
   "metadata": {},
   "source": [
    "# 2. Estimate number of scooters company b operates in this geography (simple)\n",
    "- Assuming company a's and company b's operates the same, we can solve the following equation:\n",
    "- (Number of Company A trips)/ (Number of unique Company A scooters operates) = (Number of Company B trips)/(Number of unique Company B scooters operates)\n",
    "- We get (Number of unique Company B scooters operates) = ((Number of Company B Trips) * (Number of unique Company A scooters operates))/(Number of Company A trips)\n",
    "- We will do this with the outliers removed datasets"
   ]
  },
  {
   "cell_type": "code",
   "execution_count": 292,
   "metadata": {},
   "outputs": [],
   "source": [
    "company_a_trips = len(c_a['TripID'].unique())\n",
    "company_a_scooters = len(c_a['ScooterID'].unique())\n",
    "company_b_trips = len(c_b['trip_id'].unique())\n",
    "company_b_scooters = (company_b_trips*company_a_scooters)/company_a_trips"
   ]
  },
  {
   "cell_type": "code",
   "execution_count": 293,
   "metadata": {},
   "outputs": [
    {
     "name": "stdout",
     "output_type": "stream",
     "text": [
      "Number scooters company b operates: 157\n"
     ]
    }
   ],
   "source": [
    "print (f'Number scooters company b operates: {int(company_b_scooters)}')"
   ]
  },
  {
   "cell_type": "markdown",
   "metadata": {},
   "source": [
    "### More detailed ideas\n",
    "- If we assume company B's growth is due to a novelty effect we can re-solve the equation with a restriction to the first 2 months of data for both companies\n",
    "- If we want to adjust to seasonal effects we can restrict the data to when company A and company B are operating in the same month of December and re-solve the equation."
   ]
  }
 ],
 "metadata": {
  "kernelspec": {
   "display_name": "Python (zoox)",
   "language": "python",
   "name": "myenv"
  },
  "language_info": {
   "codemirror_mode": {
    "name": "ipython",
    "version": 3
   },
   "file_extension": ".py",
   "mimetype": "text/x-python",
   "name": "python",
   "nbconvert_exporter": "python",
   "pygments_lexer": "ipython3",
   "version": "3.7.1"
  }
 },
 "nbformat": 4,
 "nbformat_minor": 2
}
